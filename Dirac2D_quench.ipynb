{
 "cells": [
  {
   "cell_type": "code",
   "execution_count": 1,
   "metadata": {},
   "outputs": [],
   "source": [
    "import numpy as np\n",
    "from math import pi\n",
    "from scipy.linalg import block_diag\n",
    "from matplotlib import pyplot\n",
    "from ipywidgets import interact"
   ]
  },
  {
   "cell_type": "code",
   "execution_count": 46,
   "metadata": {},
   "outputs": [],
   "source": [
    "def hopp_vec(Mx,My,vec,px,py,deform=False,R=0):\n",
    "    # generates hoping matrix on square lattice\n",
    "    # vec= hopping vector\n",
    "    # py=1 PBC along y otherwise OBC\n",
    "    # px=1 PBC along x otherwise OBC\n",
    "    \n",
    "    hopin=np.zeros(shape=(Mx*My,Mx*My),dtype=complex)\n",
    "    for i_y in range(My):\n",
    "        for i_x in range(Mx):\n",
    "            i_px=i_x+vec[0]\n",
    "            i_py=i_y+vec[1]\n",
    "            if ((i_px>=Mx or i_px<0) and i_py< My and i_py>=0):\n",
    "                if i_px>=Mx :\n",
    "                    hx=px\n",
    "                else:\n",
    "                    hx=px.conjugate()\n",
    "                i_px=i_px%Mx\n",
    "                hopin[i_px+i_py*Mx,i_x+i_y*Mx]=hx\n",
    "            elif ((i_py>=My or i_py<0) and i_px< Mx and i_px>=0):\n",
    "                if i_py>=My :\n",
    "                    hy=py\n",
    "                else:\n",
    "                    hy=py.conjugate()\n",
    "                    \n",
    "                i_py=i_py%My\n",
    "                hopin[i_px+i_py*Mx,i_x+i_y*Mx]=hy\n",
    "                    \n",
    "            elif (i_px>=Mx or i_px<0) and (i_py>=My or i_py<0):\n",
    "                if i_px>=Mx:\n",
    "                    hx=px\n",
    "                else:\n",
    "                    hx=px.conjugate()\n",
    "    \n",
    "                if i_py>=My:\n",
    "                    hy=py\n",
    "                else:\n",
    "                    hy=py.conjugate()\n",
    "                i_px=i_px%Mx\n",
    "                i_py=i_py%My\n",
    "                hopin[i_px+i_py*Mx,i_x+i_y*Mx]=hx*hy\n",
    "                \n",
    "            elif i_px>=0 and i_px<Mx and i_py>=0 and i_py<My :\n",
    "                if deform:\n",
    "#                     if vec[0]:\n",
    "#                         hopin[i_px+i_py*Mx,i_x+i_y*Mx]=np.cos(2*pi*(i_x+1/2)/Mx)\n",
    "#                     elif vec[1]:\n",
    "#                         hopin[i_px+i_py*Mx,i_x+i_y*Mx]=np.cos(2*pi*(i_y+1/2)/My)     \n",
    "#                     else:\n",
    "#                         error('This is not a hopping!')\n",
    "\n",
    "                    hopin[i_px+i_py*Mx,i_x+i_y*Mx]=((i_y+1/2)/My-1/2)**2+((i_x+1/2)/Mx-1/2)**2-R**2\n",
    "                else:\n",
    "                    hopin[i_px+i_py*Mx,i_x+i_y*Mx]=1\n",
    "                    \n",
    "    return hopin\n",
    "\n",
    "\n",
    "def vNent_contour(GA,epsilon=1e-9):\n",
    "    chi0, evec0 =np.linalg.eigh(GA)\n",
    "    i0=np.nonzero(np.abs(chi0)>epsilon)[0]\n",
    "    chi1=chi0[i0]\n",
    "    evec1=evec0[:,i0]\n",
    "    i1=np.nonzero(np.abs(chi1-1)>epsilon)[0]\n",
    "    chi2=chi1[i1]\n",
    "    evec2=evec1[:,i1]\n",
    "    DvN=-((1-chi2)*np.log(1-chi2)+chi2*np.log(chi2))\n",
    "    f1=np.dot((np.abs(evec2)**2),np.diag(DvN))\n",
    "    return np.sum(f1,axis=1) \n",
    "\n",
    "\n",
    "def Neg_contour(inds_A,inds_B,GA,epsilon=1e-9):\n",
    "    Na=len(inds_A)\n",
    "    Nb=len(inds_B)\n",
    "    Nt=Na+Nb\n",
    "\n",
    "    Gm = np.eye(Nt) - 2*GA\n",
    "    Tvec = np.ones((Nt), dtype=np.complex64)\n",
    "    Tvec[inds_A]=-1j*np.ones(Na)\n",
    "    Tmat= np.diag(Tvec)\n",
    "    Gm_1= np.dot(Tmat, np.dot(Gm,Tmat))\n",
    "    Gm_2= np.dot(Tmat.conj(), np.dot(Gm,Tmat.conj()))\n",
    "    Gx = np.dot(np.eye(Nt)-Gm_2 , np.dot(np.linalg.inv(np.eye(Nt)+np.dot(Gm_1,Gm_2)) , np.eye(Nt)-Gm_1))/2\n",
    "    Gxh = (Gx + np.transpose(Gx).conj())/2\n",
    "\n",
    "    # contour calculation\n",
    "    chi0,evec0=np.linalg.eigh(Gxh)\n",
    "    i0=np.nonzero(np.abs(chi0)>epsilon)[0]\n",
    "    chi1=chi0[i0]\n",
    "    evec1=evec0[:,i0]\n",
    "    i1=np.nonzero(np.abs(chi1-1)>epsilon)[0]\n",
    "    nu=chi1[i1]\n",
    "    Vx=evec1[:,i1]\n",
    "    eA=np.log(nu**0.5+(1-nu)**0.5)\n",
    "    PmA=np.abs(Vx)**2\n",
    "    vecA=np.dot(PmA,np.diag(eA))\n",
    "\n",
    "    chi,VR=np.linalg.eigh(GA)\n",
    "    sA=np.log(chi**2+(1-chi)**2)/2\n",
    "    PmR2=np.abs(VR)**2\n",
    "    vecR2=np.dot(PmR2,np.diag(sA))\n",
    "\n",
    "    cntr=np.sum(vecA,axis=1)+np.sum(vecR2,axis=1)\n",
    "    return cntr"
   ]
  },
  {
   "cell_type": "code",
   "execution_count": 43,
   "metadata": {},
   "outputs": [
    {
     "name": "stdout",
     "output_type": "stream",
     "text": [
      "Hamiltonian is constructed\n",
      "Eigenstates are found\n",
      "Ent contour is computed\n"
     ]
    },
    {
     "data": {
      "image/png": "[encoded data removed]",
      "text/plain": [
       "<Figure size 432x288 with 2 Axes>"
      ]
     },
     "metadata": {
      "needs_background": "light"
     },
     "output_type": "display_data"
    }
   ],
   "source": [
    "# static case: ground state of deformed hopping Hamiltonian\n",
    "Lx=40\n",
    "Ly=40\n",
    "N=Lx*Ly\n",
    "Lsub=N\n",
    "Npt=N #-400\n",
    "px=0\n",
    "py=0\n",
    "\n",
    "sx=np.array([[0,1],[1,0]])\n",
    "sy=np.array([[0,-1j],[1j,0]])\n",
    "sz=np.array([[1,0],[0,-1]])\n",
    "\n",
    "Hx0_hop=hopp_vec(Lx,Ly,[1,0],px,py,deform=False)\n",
    "Hy0_hop=hopp_vec(Lx,Ly,[0,1],px,py,deform=False)\n",
    "\n",
    "R=1/4\n",
    "Amp=1.0/(1/2-R**2)\n",
    "Hx_hop=hopp_vec(Lx,Ly,[1,0],px,py,deform=True,R=R)\n",
    "Hy_hop=hopp_vec(Lx,Ly,[0,1],px,py,deform=True,R=R)\n",
    "\n",
    "m=0 # Dirac mass\n",
    "H1= 1j*Amp*np.kron(Hx_hop-Hx_hop.T,sx)/2 + 1j*Amp*np.kron(Hy_hop-Hy_hop.T,sy)/2 \\\n",
    "    + np.kron(4+m-Amp*(Hx_hop+Hx_hop.T+Hy_hop+Hy_hop.T),sz)/2\n",
    "print(\"Hamiltonian is constructed\")\n",
    "E1,V1=np.linalg.eigh(H1)\n",
    "print(\"Eigenstates are found\")\n",
    "Gt=np.dot(V1[:,:Npt],np.transpose(V1[:,:Npt]).conj())\n",
    "GA=Gt[:Lsub,:Lsub]\n",
    "# GA=np.dot(V1[:Lsub,:Npt],V1[:Lsub,:Npt].T)\n",
    "entcont1=vNent_contour(GA)\n",
    "# vN_mat=np.reshape(entcont1,[int(Ly/2),2*Lx])\n",
    "vN_mat=np.reshape(entcont1[1::2]+entcont1[::2],[int(Ly/2),Lx])\n",
    "print(\"Ent contour is computed\")\n",
    "\n",
    "f1=pyplot.figure()\n",
    "pos=pyplot.imshow(np.real(vN_mat).T, cmap='Reds', vmin=0, vmax=0.05,\n",
    "                             interpolation='none')\n",
    "f1.colorbar(pos)\n",
    "pyplot.show()"
   ]
  },
  {
   "cell_type": "code",
   "execution_count": 47,
   "metadata": {},
   "outputs": [
    {
     "name": "stdout",
     "output_type": "stream",
     "text": [
      "Neg contour of total system\n"
     ]
    },
    {
     "data": {
      "image/png": "[encoded data removed]",
      "text/plain": [
       "<Figure size 432x288 with 2 Axes>"
      ]
     },
     "metadata": {
      "needs_background": "light"
     },
     "output_type": "display_data"
    }
   ],
   "source": [
    "Gn=Gt\n",
    "LNcont=Neg_contour(range(Lsub),range(Lsub,2*N),Gn)\n",
    "LN_mat=np.reshape(LNcont[::2]+LNcont[1::2],[Ly,Lx])\n",
    "print(\"Neg contour of total system\")\n",
    "\n",
    "f2=pyplot.figure()\n",
    "pos=pyplot.imshow(np.real(LN_mat).T, cmap='Reds', vmin=0, vmax=0.1,\n",
    "                             interpolation='none')\n",
    "f2.colorbar(pos)\n",
    "pyplot.show()"
   ]
  },
  {
   "cell_type": "code",
   "execution_count": 52,
   "metadata": {},
   "outputs": [
    {
     "name": "stdout",
     "output_type": "stream",
     "text": [
      "Neg contour of two neighboring squares\n"
     ]
    },
    {
     "data": {
      "image/png": "[encoded data removed]",
      "text/plain": [
       "<Figure size 432x288 with 2 Axes>"
      ]
     },
     "metadata": {
      "needs_background": "light"
     },
     "output_type": "display_data"
    }
   ],
   "source": [
    "inds_A=[]\n",
    "inds_B=[]\n",
    "for i in range(Lsub):\n",
    "    ix=i%(2*Lx)\n",
    "#     iy=int(i/Lx)\n",
    "    if ix< Lx :\n",
    "        inds_A.append(i)\n",
    "    else:\n",
    "        inds_B.append(i)\n",
    "Gn=Gt[:Lsub,:Lsub]\n",
    "LNcont=Neg_contour(inds_A,inds_B,Gn)\n",
    "LN_mat=np.reshape(LNcont,[int(Ly/2),2*Lx])\n",
    "print(\"Neg contour of two neighboring squares\")\n",
    "\n",
    "f2=pyplot.figure()\n",
    "pos=pyplot.imshow(np.real(LN_mat).T, cmap='Reds', vmin=0, vmax=0.1,\n",
    "                             interpolation='none')\n",
    "f2.colorbar(pos)\n",
    "pyplot.show()"
   ]
  },
  {
   "cell_type": "code",
   "execution_count": 54,
   "metadata": {},
   "outputs": [
    {
     "ename": "ValueError",
     "evalue": "cannot reshape array of size 800 into shape (20,20)",
     "output_type": "error",
     "traceback": [
      "\u001b[0;31m---------------------------------------------------------------------------\u001b[0m",
      "\u001b[0;31mValueError\u001b[0m                                Traceback (most recent call last)",
      "\u001b[0;32m<ipython-input-54-d4df9e9b4e49>\u001b[0m in \u001b[0;36m<module>\u001b[0;34m\u001b[0m\n\u001b[1;32m     13\u001b[0m \u001b[0mLNcont\u001b[0m\u001b[0;34m=\u001b[0m\u001b[0mNeg_contour\u001b[0m\u001b[0;34m(\u001b[0m\u001b[0mrange\u001b[0m\u001b[0;34m(\u001b[0m\u001b[0mint\u001b[0m\u001b[0;34m(\u001b[0m\u001b[0mLsub\u001b[0m\u001b[0;34m/\u001b[0m\u001b[0;36m2\u001b[0m\u001b[0;34m)\u001b[0m\u001b[0;34m)\u001b[0m\u001b[0;34m,\u001b[0m\u001b[0mrange\u001b[0m\u001b[0;34m(\u001b[0m\u001b[0mint\u001b[0m\u001b[0;34m(\u001b[0m\u001b[0mLsub\u001b[0m\u001b[0;34m/\u001b[0m\u001b[0;36m2\u001b[0m\u001b[0;34m)\u001b[0m\u001b[0;34m)\u001b[0m\u001b[0;34m,\u001b[0m\u001b[0mGn\u001b[0m\u001b[0;34m)\u001b[0m\u001b[0;34m\u001b[0m\u001b[0;34m\u001b[0m\u001b[0m\n\u001b[1;32m     14\u001b[0m \u001b[0mLN_mat\u001b[0m\u001b[0;34m=\u001b[0m\u001b[0mnp\u001b[0m\u001b[0;34m.\u001b[0m\u001b[0mzeros\u001b[0m\u001b[0;34m(\u001b[0m\u001b[0;34m(\u001b[0m\u001b[0mLy\u001b[0m\u001b[0;34m,\u001b[0m\u001b[0mLx\u001b[0m\u001b[0;34m)\u001b[0m\u001b[0;34m)\u001b[0m\u001b[0;34m\u001b[0m\u001b[0;34m\u001b[0m\u001b[0m\n\u001b[0;32m---> 15\u001b[0;31m \u001b[0mLN_mat\u001b[0m\u001b[0;34m[\u001b[0m\u001b[0;34m:\u001b[0m\u001b[0mint\u001b[0m\u001b[0;34m(\u001b[0m\u001b[0mLy\u001b[0m\u001b[0;34m/\u001b[0m\u001b[0;36m2\u001b[0m\u001b[0;34m)\u001b[0m\u001b[0;34m,\u001b[0m\u001b[0;34m:\u001b[0m\u001b[0mint\u001b[0m\u001b[0;34m(\u001b[0m\u001b[0mLx\u001b[0m\u001b[0;34m/\u001b[0m\u001b[0;36m2\u001b[0m\u001b[0;34m)\u001b[0m\u001b[0;34m]\u001b[0m\u001b[0;34m=\u001b[0m \u001b[0mnp\u001b[0m\u001b[0;34m.\u001b[0m\u001b[0mreshape\u001b[0m\u001b[0;34m(\u001b[0m\u001b[0mLNcont\u001b[0m\u001b[0;34m[\u001b[0m\u001b[0;34m:\u001b[0m\u001b[0mint\u001b[0m\u001b[0;34m(\u001b[0m\u001b[0mLsub\u001b[0m\u001b[0;34m/\u001b[0m\u001b[0;36m2\u001b[0m\u001b[0;34m)\u001b[0m\u001b[0;34m]\u001b[0m\u001b[0;34m,\u001b[0m\u001b[0;34m[\u001b[0m\u001b[0mint\u001b[0m\u001b[0;34m(\u001b[0m\u001b[0mLy\u001b[0m\u001b[0;34m/\u001b[0m\u001b[0;36m2\u001b[0m\u001b[0;34m)\u001b[0m\u001b[0;34m,\u001b[0m\u001b[0mint\u001b[0m\u001b[0;34m(\u001b[0m\u001b[0mLx\u001b[0m\u001b[0;34m/\u001b[0m\u001b[0;36m2\u001b[0m\u001b[0;34m)\u001b[0m\u001b[0;34m]\u001b[0m\u001b[0;34m)\u001b[0m\u001b[0;34m\u001b[0m\u001b[0;34m\u001b[0m\u001b[0m\n\u001b[0m\u001b[1;32m     16\u001b[0m \u001b[0mLN_mat\u001b[0m\u001b[0;34m[\u001b[0m\u001b[0mint\u001b[0m\u001b[0;34m(\u001b[0m\u001b[0mLy\u001b[0m\u001b[0;34m/\u001b[0m\u001b[0;36m2\u001b[0m\u001b[0;34m)\u001b[0m\u001b[0;34m:\u001b[0m\u001b[0;34m,\u001b[0m\u001b[0mint\u001b[0m\u001b[0;34m(\u001b[0m\u001b[0mLx\u001b[0m\u001b[0;34m/\u001b[0m\u001b[0;36m2\u001b[0m\u001b[0;34m)\u001b[0m\u001b[0;34m:\u001b[0m\u001b[0;34m]\u001b[0m\u001b[0;34m=\u001b[0m \u001b[0mnp\u001b[0m\u001b[0;34m.\u001b[0m\u001b[0mreshape\u001b[0m\u001b[0;34m(\u001b[0m\u001b[0mLNcont\u001b[0m\u001b[0;34m[\u001b[0m\u001b[0mint\u001b[0m\u001b[0;34m(\u001b[0m\u001b[0mLsub\u001b[0m\u001b[0;34m/\u001b[0m\u001b[0;36m2\u001b[0m\u001b[0;34m)\u001b[0m\u001b[0;34m:\u001b[0m\u001b[0;34m]\u001b[0m\u001b[0;34m,\u001b[0m\u001b[0;34m[\u001b[0m\u001b[0mint\u001b[0m\u001b[0;34m(\u001b[0m\u001b[0mLy\u001b[0m\u001b[0;34m/\u001b[0m\u001b[0;36m2\u001b[0m\u001b[0;34m)\u001b[0m\u001b[0;34m,\u001b[0m\u001b[0mint\u001b[0m\u001b[0;34m(\u001b[0m\u001b[0mLx\u001b[0m\u001b[0;34m/\u001b[0m\u001b[0;36m2\u001b[0m\u001b[0;34m)\u001b[0m\u001b[0;34m]\u001b[0m\u001b[0;34m)\u001b[0m\u001b[0;34m\u001b[0m\u001b[0;34m\u001b[0m\u001b[0m\n\u001b[1;32m     17\u001b[0m \u001b[0;31m# LN_mat=np.reshape(LNcont,[Ly,int(Lx/2)])\u001b[0m\u001b[0;34m\u001b[0m\u001b[0;34m\u001b[0m\u001b[0;34m\u001b[0m\u001b[0m\n",
      "\u001b[0;32m/tmp/yes/lib/python3.7/site-packages/numpy/core/fromnumeric.py\u001b[0m in \u001b[0;36mreshape\u001b[0;34m(a, newshape, order)\u001b[0m\n\u001b[1;32m    290\u001b[0m            [5, 6]])\n\u001b[1;32m    291\u001b[0m     \"\"\"\n\u001b[0;32m--> 292\u001b[0;31m     \u001b[0;32mreturn\u001b[0m \u001b[0m_wrapfunc\u001b[0m\u001b[0;34m(\u001b[0m\u001b[0ma\u001b[0m\u001b[0;34m,\u001b[0m \u001b[0;34m'reshape'\u001b[0m\u001b[0;34m,\u001b[0m \u001b[0mnewshape\u001b[0m\u001b[0;34m,\u001b[0m \u001b[0morder\u001b[0m\u001b[0;34m=\u001b[0m\u001b[0morder\u001b[0m\u001b[0;34m)\u001b[0m\u001b[0;34m\u001b[0m\u001b[0;34m\u001b[0m\u001b[0m\n\u001b[0m\u001b[1;32m    293\u001b[0m \u001b[0;34m\u001b[0m\u001b[0m\n\u001b[1;32m    294\u001b[0m \u001b[0;34m\u001b[0m\u001b[0m\n",
      "\u001b[0;32m/tmp/yes/lib/python3.7/site-packages/numpy/core/fromnumeric.py\u001b[0m in \u001b[0;36m_wrapfunc\u001b[0;34m(obj, method, *args, **kwds)\u001b[0m\n\u001b[1;32m     54\u001b[0m \u001b[0;32mdef\u001b[0m \u001b[0m_wrapfunc\u001b[0m\u001b[0;34m(\u001b[0m\u001b[0mobj\u001b[0m\u001b[0;34m,\u001b[0m \u001b[0mmethod\u001b[0m\u001b[0;34m,\u001b[0m \u001b[0;34m*\u001b[0m\u001b[0margs\u001b[0m\u001b[0;34m,\u001b[0m \u001b[0;34m**\u001b[0m\u001b[0mkwds\u001b[0m\u001b[0;34m)\u001b[0m\u001b[0;34m:\u001b[0m\u001b[0;34m\u001b[0m\u001b[0;34m\u001b[0m\u001b[0m\n\u001b[1;32m     55\u001b[0m     \u001b[0;32mtry\u001b[0m\u001b[0;34m:\u001b[0m\u001b[0;34m\u001b[0m\u001b[0;34m\u001b[0m\u001b[0m\n\u001b[0;32m---> 56\u001b[0;31m         \u001b[0;32mreturn\u001b[0m \u001b[0mgetattr\u001b[0m\u001b[0;34m(\u001b[0m\u001b[0mobj\u001b[0m\u001b[0;34m,\u001b[0m \u001b[0mmethod\u001b[0m\u001b[0;34m)\u001b[0m\u001b[0;34m(\u001b[0m\u001b[0;34m*\u001b[0m\u001b[0margs\u001b[0m\u001b[0;34m,\u001b[0m \u001b[0;34m**\u001b[0m\u001b[0mkwds\u001b[0m\u001b[0;34m)\u001b[0m\u001b[0;34m\u001b[0m\u001b[0;34m\u001b[0m\u001b[0m\n\u001b[0m\u001b[1;32m     57\u001b[0m \u001b[0;34m\u001b[0m\u001b[0m\n\u001b[1;32m     58\u001b[0m     \u001b[0;31m# An AttributeError occurs if the object does not have\u001b[0m\u001b[0;34m\u001b[0m\u001b[0;34m\u001b[0m\u001b[0;34m\u001b[0m\u001b[0m\n",
      "\u001b[0;31mValueError\u001b[0m: cannot reshape array of size 800 into shape (20,20)"
     ]
    }
   ],
   "source": [
    "inds_A=[]\n",
    "inds_B=[]\n",
    "for i in range(2*N):\n",
    "    ix=i%(2*Lx)\n",
    "    iy=int(i/(2*Lx))\n",
    "    if ix< Lx and iy< Ly/2 :\n",
    "        inds_A.append(i)\n",
    "    elif ix>= Lx and iy>= Ly/2 :\n",
    "        inds_B.append(i)\n",
    "\n",
    "inds_AB=np.concatenate((inds_A,inds_B))\n",
    "Gn=Gt[np.ix_(inds_AB,inds_AB)]\n",
    "LNcont=Neg_contour(range(int(Lsub/2)),range(int(Lsub/2)),Gn)\n",
    "LN_mat=np.zeros((Ly,Lx))\n",
    "LN_mat[:int(Ly/2),:int(Lx/2)]= np.reshape(LNcont[:int(Lsub/2)],[int(Ly/2),int(Lx/2)])\n",
    "LN_mat[int(Ly/2):,int(Lx/2):]= np.reshape(LNcont[int(Lsub/2):],[int(Ly/2),int(Lx/2)])\n",
    "# LN_mat=np.reshape(LNcont,[Ly,int(Lx/2)])\n",
    "print(\"Neg contour of two diagonal squares\")\n",
    "\n",
    "f2=pyplot.figure()\n",
    "pos=pyplot.imshow(np.real(LN_mat).T, cmap='Reds', vmin=0, vmax=0.1,\n",
    "                             interpolation='none')\n",
    "f2.colorbar(pos)\n",
    "pyplot.show()"
   ]
  },
  {
   "cell_type": "code",
   "execution_count": 113,
   "metadata": {},
   "outputs": [
    {
     "name": "stdout",
     "output_type": "stream",
     "text": [
      "Eigenstates of deformed Hamiltonian are computed\n",
      "Eigenstates of uniform Hamiltonian are computed\n"
     ]
    }
   ],
   "source": [
    "# Dyanmic case: quench from uniform to deformed model\n",
    "Lx=60\n",
    "Ly=60\n",
    "N=Lx*Ly\n",
    "Lsub=int(N/2)\n",
    "Npt=int(N/2)#-400\n",
    "px=0\n",
    "py=0\n",
    "\n",
    "H1_hop=hopp_vec(Lx,Ly,[0,1],px,py,deform=True,R=1/4)+hopp_vec(Lx,Ly,[1,0],px,py,deform=True,R=1/4)\n",
    "Amp=8\n",
    "H1=Amp*(H1_hop+H1_hop.T)/2\n",
    "# H1=(H1_hop+H1_hop.T)/2\n",
    "E1,V1=np.linalg.eigh(H1)\n",
    "print(\"Eigenstates of deformed Hamiltonian are computed\")\n",
    "\n",
    "H0_hop=hopp_vec(Lx,Ly,[0,1],px,py,deform=False)+hopp_vec(Lx,Ly,[1,0],px,py,deform=False)\n",
    "H0=(H0_hop+H0_hop.T)/2\n",
    "E0,V0=np.linalg.eigh(H0)\n",
    "print(\"Eigenstates of uniform Hamiltonian are computed\")\n",
    "\n",
    "V_i=np.copy(V0[:,:Npt])\n",
    "G_0=np.dot(V1.T,np.dot(np.dot(V_i,V_i.T),V1))"
   ]
  },
  {
   "cell_type": "code",
   "execution_count": 120,
   "metadata": {},
   "outputs": [],
   "source": [
    "# data visualization\n",
    "def plot_EE_contour(t_time=0):\n",
    "    Emat=np.dot(V1,np.diag(np.exp(1j*E1*t_time)))\n",
    "    Gmat=np.dot(Emat,np.dot(G_0,np.transpose(Emat).conj()))\n",
    "    Lsub=int(N/2)\n",
    "    GA=Gmat[:Lsub,:Lsub] \n",
    "    EE_cont=vNent_contour(GA)\n",
    "    vN_mat=np.reshape(EE_cont,[int(Ly/2),Lx])\n",
    "\n",
    "    f1=pyplot.figure()\n",
    "    pos=pyplot.imshow(np.real(vN_mat).T, cmap='Reds', vmax=0.7*EE_cont.max(),\n",
    "                                 interpolation='none')\n",
    "    pyplot.ylabel(\"x\")\n",
    "    pyplot.xlabel(\"y\")\n",
    "    pyplot.title(\"EE cont, t=\"+str(t_time))\n",
    "    f1.colorbar(pos)\n",
    "    pyplot.show()\n",
    "    \n",
    "\n",
    "#     LN_cont=Neg_contour(Lsub,Lsub,Gmat)\n",
    "#     LN_mat=np.reshape(LN_cont,[Ly,Lx])\n",
    "\n",
    "    inds_A=[]\n",
    "    inds_B=[]\n",
    "    for i in range(N):\n",
    "        ix=i%Lx\n",
    "        iy=int(i/Lx)\n",
    "        if ix< Lx/2 and iy< Ly/2 :\n",
    "            inds_A.append(i)\n",
    "        elif ix>= Lx/2 and iy>= Ly/2 :\n",
    "            inds_B.append(i)\n",
    "\n",
    "    inds_AB=np.concatenate((inds_A,inds_B))\n",
    "    Gn=Gmat[np.ix_(inds_AB,inds_AB)]\n",
    "    LNcont=Neg_contour(range(int(Lsub/2)),range(int(Lsub/2)),Gn)\n",
    "    LN_mat=np.zeros((Ly,Lx))\n",
    "    LN_mat[:int(Ly/2),:int(Lx/2)]= np.reshape(LNcont[:int(Lsub/2)],[int(Ly/2),int(Lx/2)])\n",
    "    LN_mat[int(Ly/2):,int(Lx/2):]= np.reshape(LNcont[int(Lsub/2):],[int(Ly/2),int(Lx/2)])\n",
    "\n",
    "    f2=pyplot.figure()\n",
    "    pos=pyplot.imshow(np.real(LN_mat).T, cmap='Reds', vmax=0.7*LN_mat.max(),\n",
    "                                 interpolation='none')\n",
    "    pyplot.ylabel(\"x\")\n",
    "    pyplot.xlabel(\"y\")\n",
    "    pyplot.title(\"LN cont, t=\"+str(t_time))\n",
    "    f2.colorbar(pos)\n",
    "    pyplot.show()\n",
    "    \n",
    "    inds_A=[]\n",
    "    inds_B=[]\n",
    "    for i in range(Lsub):\n",
    "        ix=i%Lx\n",
    "        if ix< Lx/2 :\n",
    "            inds_A.append(i)\n",
    "        else:\n",
    "            inds_B.append(i)\n",
    "    Gn=Gmat[:Lsub,:Lsub]\n",
    "    LNcont=Neg_contour(inds_A,inds_B,Gn)\n",
    "    LN_mat=np.reshape(LNcont,[int(Ly/2),Lx])\n",
    "    f3=pyplot.figure()\n",
    "    pos=pyplot.imshow(np.real(LN_mat).T, cmap='Reds', vmax=0.7*LN_mat.max(),\n",
    "                                 interpolation='none')\n",
    "    pyplot.ylabel(\"x\")\n",
    "    pyplot.xlabel(\"y\")\n",
    "    pyplot.title(\"LN cont, t=\"+str(t_time))\n",
    "    f3.colorbar(pos)\n",
    "    pyplot.show()"
   ]
  },
  {
   "cell_type": "code",
   "execution_count": 121,
   "metadata": {},
   "outputs": [
    {
     "data": {
      "image/png": "[encoded data removed]",
      "text/plain": [
       "<Figure size 432x288 with 2 Axes>"
      ]
     },
     "metadata": {
      "needs_background": "light"
     },
     "output_type": "display_data"
    },
    {
     "data": {
      "image/png": "[encoded data removed]",
      "text/plain": [
       "<Figure size 432x288 with 2 Axes>"
      ]
     },
     "metadata": {
      "needs_background": "light"
     },
     "output_type": "display_data"
    },
    {
     "data": {
      "image/png": "[encoded data removed]",
      "text/plain": [
       "<Figure size 432x288 with 2 Axes>"
      ]
     },
     "metadata": {
      "needs_background": "light"
     },
     "output_type": "display_data"
    }
   ],
   "source": [
    "# single instance\n",
    "plot_EE_contour(t_time=100)"
   ]
  },
  {
   "cell_type": "code",
   "execution_count": 117,
   "metadata": {},
   "outputs": [
    {
     "data": {
      "application/vnd.jupyter.widget-view+json": {
       "model_id": "91c70ac937394dfeb5f1b7f9abb59ad1",
       "version_major": 2,
       "version_minor": 0
      },
      "text/plain": [
       "interactive(children=(IntSlider(value=0, description='t_time', step=5), Output()), _dom_classes=('widget-inter…"
      ]
     },
     "metadata": {},
     "output_type": "display_data"
    }
   ],
   "source": [
    "interact(plot_EE_contour, t_time=(0, 100, 5));"
   ]
  },
  {
   "cell_type": "code",
   "execution_count": null,
   "metadata": {},
   "outputs": [],
   "source": []
  }
 ],
 "metadata": {
  "kernelspec": {
   "display_name": "Python 3",
   "language": "python",
   "name": "python3"
  },
  "language_info": {
   "codemirror_mode": {
    "name": "ipython",
    "version": 3
   },
   "file_extension": ".py",
   "mimetype": "text/x-python",
   "name": "python",
   "nbconvert_exporter": "python",
   "pygments_lexer": "ipython3",
   "version": "3.7.3"
  }
 },
 "nbformat": 4,
 "nbformat_minor": 2
}

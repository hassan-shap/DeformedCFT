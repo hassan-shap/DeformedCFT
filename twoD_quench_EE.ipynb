{
 "cells": [
  {
   "cell_type": "code",
   "execution_count": 1,
   "metadata": {},
   "outputs": [],
   "source": [
    "import numpy as np\n",
    "from math import pi\n",
    "from matplotlib import pyplot\n",
    "from ipywidgets import interact"
   ]
  },
  {
   "cell_type": "code",
   "execution_count": 2,
   "metadata": {},
   "outputs": [],
   "source": [
    "def hopp_vec(Mx,My,vec,px,py,deform=False):\n",
    "    # generates hoping matrix on square lattice\n",
    "    # vec= hopping vector\n",
    "    # py=1 PBC along y otherwise OBC\n",
    "    # px=1 PBC along x otherwise OBC\n",
    "    \n",
    "    hopin=np.zeros(shape=(Mx*My,Mx*My),dtype=complex)\n",
    "    for i_y in range(My):\n",
    "        for i_x in range(Mx):\n",
    "            i_px=i_x+vec[0]\n",
    "            i_py=i_y+vec[1]\n",
    "            if ((i_px>=Mx or i_px<0) and i_py< My and i_py>=0):\n",
    "                if i_px>=Mx :\n",
    "                    hx=px\n",
    "                else:\n",
    "                    hx=px.conjugate()\n",
    "                i_px=i_px%Mx\n",
    "                hopin[i_px+i_py*Mx,i_x+i_y*Mx]=hx\n",
    "            elif ((i_py>=My or i_py<0) and i_px< Mx and i_px>=0):\n",
    "                if i_py>=My :\n",
    "                    hy=py\n",
    "                else:\n",
    "                    hy=py.conjugate()\n",
    "                    \n",
    "                i_py=i_py%My\n",
    "                hopin[i_px+i_py*Mx,i_x+i_y*Mx]=hy\n",
    "                    \n",
    "            elif (i_px>=Mx or i_px<0) and (i_py>=My or i_py<0):\n",
    "                if i_px>=Mx:\n",
    "                    hx=px\n",
    "                else:\n",
    "                    hx=px.conjugate()\n",
    "    \n",
    "                if i_py>=My:\n",
    "                    hy=py\n",
    "                else:\n",
    "                    hy=py.conjugate()\n",
    "                i_px=i_px%Mx\n",
    "                i_py=i_py%My\n",
    "                hopin[i_px+i_py*Mx,i_x+i_y*Mx]=hx*hy\n",
    "                \n",
    "            elif i_px>=0 and i_px<Mx and i_py>=0 and i_py<My :\n",
    "                if deform:\n",
    "                    if vec[0]:\n",
    "                        hopin[i_px+i_py*Mx,i_x+i_y*Mx]=np.cos(2*pi*(i_x+1/2)/Mx)\n",
    "                    elif vec[1]:\n",
    "                        hopin[i_px+i_py*Mx,i_x+i_y*Mx]=np.cos(2*pi*(i_y+1/2)/My)                        \n",
    "                    else:\n",
    "                        error('This is not a hopping!')\n",
    "                else:\n",
    "                    hopin[i_px+i_py*Mx,i_x+i_y*Mx]=1\n",
    "                    \n",
    "    return hopin\n",
    "\n",
    "\n",
    "def vNent_contour(GA,epsilon=1e-9):\n",
    "    chi0, evec0 =np.linalg.eigh(GA)\n",
    "    i0=np.nonzero(np.abs(chi0)>epsilon)[0]\n",
    "    chi1=chi0[i0]\n",
    "    evec1=evec0[:,i0]\n",
    "    i1=np.nonzero(np.abs(chi1-1)>epsilon)[0]\n",
    "    chi2=chi1[i1]\n",
    "    evec2=evec1[:,i1]\n",
    "    DvN=-((1-chi2)*np.log(1-chi2)+chi2*np.log(chi2))\n",
    "    f1=np.dot((np.abs(evec2)**2),np.diag(DvN))\n",
    "    return np.sum(f1,axis=1) \n",
    "\n",
    "     "
   ]
  },
  {
   "cell_type": "code",
   "execution_count": 3,
   "metadata": {},
   "outputs": [
    {
     "name": "stdout",
     "output_type": "stream",
     "text": [
      "Hamiltonian is constructed\n",
      "Eigenstates are found\n",
      "Ent contour is computed\n"
     ]
    }
   ],
   "source": [
    "# static case: ground state of deformed hopping Hamiltonian\n",
    "Lx=60\n",
    "Ly=80\n",
    "N=Lx*Ly\n",
    "Lsub=int(N/2)\n",
    "Npt=int(N/2)\n",
    "px=1\n",
    "py=0\n",
    "\n",
    "H1_hop=hopp_vec(Lx,Ly,[0,1],px,py,deform=True)+hopp_vec(Lx,Ly,[1,0],px,py,deform=True)\n",
    "# H1_hop=hopp_vec(Lx,Ly,[0,1],px,py,deform=True)+hopp_vec(Lx,Ly,[1,0],px,py,deform=False)\n",
    "# H1_hop=hopp_vec(Lx,Ly,[0,1],px,py)+hopp_vec(Lx,Ly,[1,0],px,py)\n",
    "H1=(H1_hop+H1_hop.T)/2\n",
    "print(\"Hamiltonian is constructed\")\n",
    "E1,V1=np.linalg.eigh(H1)\n",
    "print(\"Eigenstates are found\")\n",
    "GA=np.dot(V1[:Lsub,:Npt],V1[:Lsub,:Npt].T)\n",
    "entcont1=vNent_contour(GA)\n",
    "vN_mat=np.reshape(entcont1,[int(Ly/2),Lx])\n",
    "print(\"Ent contour is computed\")"
   ]
  },
  {
   "cell_type": "code",
   "execution_count": 4,
   "metadata": {},
   "outputs": [
    {
     "data": {
      "image/png": "[encoded data removed]",
      "text/plain": [
       "<Figure size 432x288 with 2 Axes>"
      ]
     },
     "metadata": {
      "needs_background": "light"
     },
     "output_type": "display_data"
    }
   ],
   "source": [
    "f1=pyplot.figure()\n",
    "pos=pyplot.imshow(np.real(vN_mat).T, cmap='Reds', vmin=0, vmax=0.1,\n",
    "                             interpolation='none')\n",
    "f1.colorbar(pos)\n",
    "pyplot.show()\n"
   ]
  },
  {
   "cell_type": "code",
   "execution_count": 9,
   "metadata": {},
   "outputs": [
    {
     "name": "stdout",
     "output_type": "stream",
     "text": [
      "Eigenstates of deformed Hamiltonian are computed\n",
      "Eigenstates of uniform Hamiltonian are computed\n"
     ]
    }
   ],
   "source": [
    "# Dyanmic case: quench from uniform to deformed model\n",
    "Lx=40\n",
    "Ly=120\n",
    "N=Lx*Ly\n",
    "Lsub=int(N/2)\n",
    "Npt=int(N/2)\n",
    "px=1\n",
    "py=0\n",
    "\n",
    "H1_hop=hopp_vec(Lx,Ly,[0,1],px,py,deform=True)+hopp_vec(Lx,Ly,[1,0],px,py,deform=True)\n",
    "H1=(H1_hop+H1_hop.T)/2\n",
    "E1,V1=np.linalg.eigh(H1)\n",
    "print(\"Eigenstates of deformed Hamiltonian are computed\")\n",
    "\n",
    "H0_hop=hopp_vec(Lx,Ly,[0,1],px,py,deform=False)+hopp_vec(Lx,Ly,[1,0],px,py,deform=False)\n",
    "H0=(H0_hop+H0_hop.T)/2\n",
    "E0,V0=np.linalg.eigh(H0)\n",
    "print(\"Eigenstates of uniform Hamiltonian are computed\")\n",
    "\n",
    "V_i=np.copy(V0[:,:Npt])\n",
    "G_0=np.dot(V1.T,np.dot(np.dot(V_i,V_i.T),V1))"
   ]
  },
  {
   "cell_type": "code",
   "execution_count": 10,
   "metadata": {},
   "outputs": [],
   "source": [
    "# data visualization\n",
    "def plot_EE_contour(t_time=0):\n",
    "    Emat=np.dot(V1,np.diag(np.exp(1j*E1*t_time)))\n",
    "    Gmat=np.dot(Emat,np.dot(G_0,np.transpose(Emat).conj()))\n",
    "    Lsub=int(N/2)\n",
    "    GA=Gmat[:Lsub,:Lsub] \n",
    "    EE_cont=vNent_contour(GA)\n",
    "\n",
    "    vN_mat=np.reshape(EE_cont,[int(Ly/2),Lx])\n",
    "    f1=pyplot.figure()\n",
    "    pos=pyplot.imshow(np.real(vN_mat).T, cmap='Reds', vmax=0.7*EE_cont.max(),\n",
    "                                 interpolation='none')\n",
    "    pyplot.ylabel(\"x\")\n",
    "    pyplot.xlabel(\"y\")\n",
    "    pyplot.title(\"t=\"+str(t_time))\n",
    "    f1.colorbar(pos)\n",
    "    pyplot.show()"
   ]
  },
  {
   "cell_type": "code",
   "execution_count": 11,
   "metadata": {},
   "outputs": [
    {
     "data": {
      "image/png": "[encoded data removed]",
      "text/plain": [
       "<Figure size 432x288 with 2 Axes>"
      ]
     },
     "metadata": {
      "needs_background": "light"
     },
     "output_type": "display_data"
    }
   ],
   "source": [
    "# single instance\n",
    "plot_EE_contour(t_time=100)"
   ]
  },
  {
   "cell_type": "code",
   "execution_count": 8,
   "metadata": {},
   "outputs": [
    {
     "data": {
      "application/vnd.jupyter.widget-view+json": {
       "model_id": "96e7de43861944eaabeb5092dae2c2cb",
       "version_major": 2,
       "version_minor": 0
      },
      "text/plain": [
       "interactive(children=(IntSlider(value=0, description='t_time', step=5), Output()), _dom_classes=('widget-inter…"
      ]
     },
     "metadata": {},
     "output_type": "display_data"
    }
   ],
   "source": [
    "interact(plot_EE_contour, t_time=(0, 100, 5));"
   ]
  },
  {
   "cell_type": "code",
   "execution_count": null,
   "metadata": {},
   "outputs": [],
   "source": []
  }
 ],
 "metadata": {
  "kernelspec": {
   "display_name": "Python 3",
   "language": "python",
   "name": "python3"
  },
  "language_info": {
   "codemirror_mode": {
    "name": "ipython",
    "version": 3
   },
   "file_extension": ".py",
   "mimetype": "text/x-python",
   "name": "python",
   "nbconvert_exporter": "python",
   "pygments_lexer": "ipython3",
   "version": "3.7.3"
  }
 },
 "nbformat": 4,
 "nbformat_minor": 2
}

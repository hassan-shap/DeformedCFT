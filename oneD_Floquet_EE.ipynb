{
 "cells": [
  {
   "cell_type": "code",
   "execution_count": 3,
   "metadata": {},
   "outputs": [],
   "source": [
    "import numpy as np\n",
    "from math import pi\n",
    "from matplotlib import pyplot\n",
    "from ipywidgets import interact"
   ]
  },
  {
   "cell_type": "code",
   "execution_count": 4,
   "metadata": {},
   "outputs": [],
   "source": [
    "def vNent_calc(GA,epsilon=1e-9):\n",
    "    chi0, _ =np.linalg.eigh(GA)\n",
    "    chi1=chi0[np.nonzero(np.abs(chi0)>epsilon)]\n",
    "    chi2=chi1[np.nonzero(np.abs(chi1-1)>epsilon)]\n",
    "    return -np.sum((1-chi2)*np.log(1-chi2)+chi2*np.log(chi2))\n",
    "\n",
    "def vNent_contour(GA,epsilon=1e-9):\n",
    "    chi0, evec0 =np.linalg.eigh(GA)\n",
    "    i0=np.nonzero(np.abs(chi0)>epsilon)[0]\n",
    "    chi1=chi0[i0]\n",
    "    evec1=evec0[:,i0]\n",
    "    i1=np.nonzero(np.abs(chi1-1)>epsilon)[0]\n",
    "    chi2=chi1[i1]\n",
    "    evec2=evec1[:,i1]\n",
    "    DvN=-((1-chi2)*np.log(1-chi2)+chi2*np.log(chi2))\n",
    "    f1=np.dot((np.abs(evec2)**2),np.diag(DvN))\n",
    "    return np.sum(f1,axis=1) "
   ]
  },
  {
   "cell_type": "code",
   "execution_count": 52,
   "metadata": {},
   "outputs": [
    {
     "name": "stdout",
     "output_type": "stream",
     "text": [
      "Eigenstates of deformed Hamiltonian are computed\n",
      "Eigenstates of uniform Hamiltonian are computed\n",
      "0\n",
      "1\n",
      "2\n",
      "3\n",
      "4\n",
      "5\n",
      "6\n",
      "7\n",
      "8\n",
      "9\n"
     ]
    }
   ],
   "source": [
    "N=1000\n",
    "Lsub=int(N/2)\n",
    "Npt=int(N/2)\n",
    "# alpha=2\n",
    "Nt=10\n",
    "T0=0.9*N\n",
    "T1=0.1*N\n",
    "T=T0+T1\n",
    "\n",
    "# original deformation L0+L1+L-1\n",
    "# H1_hop=np.diag(np.sin(pi*np.arange(0.5,N-1)/N)**2,1)\n",
    "\n",
    "# modified deformation L1+L-1\n",
    "# H1_hop=np.diag(np.cos(2*pi*np.arange(0.5,N-1)/N)/2,1)\n",
    "\n",
    "# modified deformation L1+L-1 with shifted origin\n",
    "# H1_hop=np.diag(np.cos(2*pi*np.arange(-N/2+1,N/2)/N)/2,1)\n",
    "\n",
    "# parabolic deformation [L1+L-1+ higher order] with shifted origin\n",
    "R=1/4\n",
    "Amp=0.5/(1/4-R**2)\n",
    "H1_hop=Amp*np.diag((np.arange(-N/2+1,N/2)/N)**2-R**2,1)\n",
    "\n",
    "# alpha deformation [L0+ alpha*(L1+L-1)] with shifted origin\n",
    "# H1_hop=np.diag(1-alpha* np.cos(2*pi*np.arange(0.5,N-1)/N),1)\n",
    "# H1_hop[N-1,0]=0\n",
    "H1=(H1_hop+H1_hop.T) # there is no factor of 1/2 here\n",
    "E1,V1=np.linalg.eigh(H1)\n",
    "print(\"Eigenstates of deformed Hamiltonian are computed\")\n",
    "V1t=np.dot(V1,np.dot(np.diag(np.exp(1j*E1*T1)),V1.T))\n",
    "\n",
    "H0_hop=np.diag(np.ones(N-1),1)\n",
    "# H0_hop[N-1,0]=0\n",
    "H0=(H0_hop+H0_hop.T)/2\n",
    "E0,V0=np.linalg.eigh(H0)\n",
    "print(\"Eigenstates of uniform Hamiltonian are computed\")\n",
    "# V0t=np.dot(V0,np.dot(np.diag(np.exp(1j*E0*T0)),V0.T))\n",
    "V0t=np.dot(V0,np.dot(np.diag(np.exp(1j*E0*(T0+T1))),V0.T))\n",
    "\n",
    "UF=np.dot(V0t,V1t)\n",
    "V_i=np.copy(V0[:,:Npt])\n",
    "Vt=np.copy(V_i)\n",
    "\n",
    "vNent_cont=np.zeros((Nt,Lsub))\n",
    "for i_t in range(Nt):\n",
    "    print(i_t)\n",
    "    GA=np.dot(Vt[:Lsub,:],np.transpose(Vt[:Lsub,:]).conj())\n",
    "    vNent_cont[i_t,:]=vNent_contour(GA)\n",
    "    Vt=np.dot(UF,Vt)    \n"
   ]
  },
  {
   "cell_type": "code",
   "execution_count": 53,
   "metadata": {},
   "outputs": [
    {
     "data": {
      "application/vnd.jupyter.widget-view+json": {
       "model_id": "f5fad56a615d4ab9a60c0f864ff1ed4d",
       "version_major": 2,
       "version_minor": 0
      },
      "text/plain": [
       "interactive(children=(IntSlider(value=0, description='t_time', max=9), Output()), _dom_classes=('widget-intera…"
      ]
     },
     "metadata": {},
     "output_type": "display_data"
    }
   ],
   "source": [
    "# data visualization\n",
    "def plot_EE_contour(t_time=0):\n",
    "    pyplot.figure()\n",
    "#     pyplot.plot(np.arange(Lsub)/N,vNent_cont[t_time,:])\n",
    "    pyplot.plot(np.arange(Lsub)/N,vNent_cont[t_time,:]-vNent_cont[0,:])\n",
    "    pyplot.ylabel(\"Entanglement Contour\")\n",
    "    pyplot.xlabel(\"subsystem size/L\")\n",
    "    pyplot.show()\n",
    "\n",
    "interact(plot_EE_contour, t_time=(0, Nt-1, 1));"
   ]
  },
  {
   "cell_type": "code",
   "execution_count": 51,
   "metadata": {},
   "outputs": [
    {
     "data": {
      "image/png": "[encoded data removed]",
      "text/plain": [
       "<Figure size 432x288 with 1 Axes>"
      ]
     },
     "metadata": {
      "needs_background": "light"
     },
     "output_type": "display_data"
    }
   ],
   "source": [
    "plot_EE_contour(t_time=Nt-1)"
   ]
  },
  {
   "cell_type": "code",
   "execution_count": null,
   "metadata": {},
   "outputs": [],
   "source": []
  }
 ],
 "metadata": {
  "kernelspec": {
   "display_name": "Python 3",
   "language": "python",
   "name": "python3"
  },
  "language_info": {
   "codemirror_mode": {
    "name": "ipython",
    "version": 3
   },
   "file_extension": ".py",
   "mimetype": "text/x-python",
   "name": "python",
   "nbconvert_exporter": "python",
   "pygments_lexer": "ipython3",
   "version": "3.7.3"
  }
 },
 "nbformat": 4,
 "nbformat_minor": 2
}
